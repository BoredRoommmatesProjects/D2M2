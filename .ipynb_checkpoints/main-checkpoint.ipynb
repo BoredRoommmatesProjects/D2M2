{
 "cells": [
  {
   "cell_type": "code",
   "execution_count": 2,
   "id": "a0630969-511b-490c-bdf0-7a34db5c24ab",
   "metadata": {},
   "outputs": [],
   "source": [
    "import numpy as np\n",
    "import pandas as pd\n",
    "\n",
    "import os\n",
    "import matplotlib.pyplot as plt\n",
    "import pandas_datareader as web\n",
    "import datetime as dt\n",
    "\n",
    "from sklearn.preprocessing import MinMaxScaler\n",
    "from tensorflow.keras.models import Sequential\n",
    "from tensorflow.keras.layers import Dense, Dropout, LSTM\n",
    "from tensorflow.keras.callbacks import ModelCheckpoint, EarlyStopping"
   ]
  },
  {
   "cell_type": "code",
   "execution_count": 3,
   "id": "83f0416b-6076-4fb4-8a48-4eacd728c3b1",
   "metadata": {},
   "outputs": [],
   "source": [
    "def load_data(company, start, end):\n",
    "    data = web.DataReader(company, 'yahoo', start, end)\n",
    "    return data"
   ]
  },
  {
   "cell_type": "code",
   "execution_count": 4,
   "id": "8883e2be-b9fc-4c38-b05e-de955be35316",
   "metadata": {},
   "outputs": [],
   "source": [
    "# Company to be focused on: facebook\n",
    "company = 'FB'"
   ]
  },
  {
   "cell_type": "code",
   "execution_count": 74,
   "id": "4714a278-8f3c-4a37-9fef-13250dc830da",
   "metadata": {},
   "outputs": [],
   "source": [
    "data = load_data(company = company,\n",
    "                 start = dt.datetime(2012,1,1),\n",
    "                 end = dt.datetime(2021,1,1))"
   ]
  },
  {
   "cell_type": "code",
   "execution_count": 75,
   "id": "be4d6649-5eb0-47f7-bdf2-ee31b130d053",
   "metadata": {},
   "outputs": [],
   "source": [
    "# Normalize data\n",
    "scaler = MinMaxScaler(feature_range=(0,1))\n",
    "scaled_data = scaler.fit_transform(data['Close'].values.reshape(-1,1))"
   ]
  },
  {
   "cell_type": "code",
   "execution_count": 76,
   "id": "adf37bac-4467-47b4-b718-bdf59f723770",
   "metadata": {},
   "outputs": [],
   "source": [
    "# how many days do i want to base my predictions on ?\n",
    "prediction_days = 60\n",
    "\n",
    "x_train = []\n",
    "y_train = []\n",
    "\n",
    "for x in range(prediction_days, len(scaled_data)):\n",
    "    x_train.append(scaled_data[x - prediction_days:x, 0])\n",
    "    y_train.append(scaled_data[x, 0])\n",
    "    \n",
    "x_train, y_train = np.array(x_train), np.array(y_train)\n",
    "x_train = np.reshape(x_train, (x_train.shape[0], x_train.shape[1], 1))"
   ]
  },
  {
   "cell_type": "code",
   "execution_count": 87,
   "id": "5847e32f-988c-479a-864e-f895445ffd00",
   "metadata": {},
   "outputs": [],
   "source": [
    "def LSTM_model():\n",
    "    \n",
    "    model = Sequential()\n",
    "    \n",
    "    model.add(LSTM(units = 60, return_sequences = True, input_shape = (x_train.shape[1],1)))\n",
    "    model.add(Dropout(0.4))\n",
    "\n",
    "    model.add(LSTM(units = 60, return_sequences = True))\n",
    "    model.add(Dropout(0.4))\n",
    "\n",
    "    model.add(LSTM(units = 60))\n",
    "    model.add(Dropout(0.4))\n",
    "    \n",
    "    model.add(Dense(units=1))\n",
    "    \n",
    "    return model"
   ]
  },
  {
   "cell_type": "code",
   "execution_count": 88,
   "id": "9c15738d-e4b8-488a-85e0-5263df668e88",
   "metadata": {},
   "outputs": [
    {
     "name": "stdout",
     "output_type": "stream",
     "text": [
      "Model: \"sequential_7\"\n",
      "_________________________________________________________________\n",
      " Layer (type)                Output Shape              Param #   \n",
      "=================================================================\n",
      " lstm_21 (LSTM)              (None, 60, 60)            14880     \n",
      "                                                                 \n",
      " dropout_21 (Dropout)        (None, 60, 60)            0         \n",
      "                                                                 \n",
      " lstm_22 (LSTM)              (None, 60, 60)            29040     \n",
      "                                                                 \n",
      " dropout_22 (Dropout)        (None, 60, 60)            0         \n",
      "                                                                 \n",
      " lstm_23 (LSTM)              (None, 60)                29040     \n",
      "                                                                 \n",
      " dropout_23 (Dropout)        (None, 60)                0         \n",
      "                                                                 \n",
      " dense_7 (Dense)             (None, 1)                 61        \n",
      "                                                                 \n",
      "=================================================================\n",
      "Total params: 73,021\n",
      "Trainable params: 73,021\n",
      "Non-trainable params: 0\n",
      "_________________________________________________________________\n"
     ]
    }
   ],
   "source": [
    "model = LSTM_model()\n",
    "model.summary()\n",
    "model.compile(optimizer='adam', \n",
    "              loss='mean_squared_error')"
   ]
  },
  {
   "cell_type": "code",
   "execution_count": 89,
   "id": "1765df96-3869-4fcd-b79e-9289abec2179",
   "metadata": {},
   "outputs": [],
   "source": [
    "# Define callbacks\n",
    "\n",
    "# Save weights only for best model\n",
    "checkpointer = ModelCheckpoint(filepath = 'weights_best.hdf5', \n",
    "                               verbose = 1, \n",
    "                               monitor = 'val_accuracy',\n",
    "                               save_best_only = True)"
   ]
  },
  {
   "cell_type": "code",
   "execution_count": 90,
   "id": "89979c4e-72a2-4933-8634-b911f8929037",
   "metadata": {},
   "outputs": [
    {
     "name": "stdout",
     "output_type": "stream",
     "text": [
      "Epoch 1/50\n",
      "62/66 [===========================>..] - ETA: 0s - loss: 0.0172WARNING:tensorflow:Can save best model only with val_accuracy available, skipping.\n",
      "66/66 [==============================] - 4s 14ms/step - loss: 0.0166\n",
      "Epoch 2/50\n",
      "66/66 [==============================] - ETA: 0s - loss: 0.0049WARNING:tensorflow:Can save best model only with val_accuracy available, skipping.\n",
      "66/66 [==============================] - 1s 11ms/step - loss: 0.0049\n",
      "Epoch 3/50\n",
      "66/66 [==============================] - ETA: 0s - loss: 0.0043WARNING:tensorflow:Can save best model only with val_accuracy available, skipping.\n",
      "66/66 [==============================] - 1s 11ms/step - loss: 0.0043\n",
      "Epoch 4/50\n",
      "66/66 [==============================] - ETA: 0s - loss: 0.0039WARNING:tensorflow:Can save best model only with val_accuracy available, skipping.\n",
      "66/66 [==============================] - 1s 11ms/step - loss: 0.0039\n",
      "Epoch 5/50\n",
      "66/66 [==============================] - ETA: 0s - loss: 0.0035WARNING:tensorflow:Can save best model only with val_accuracy available, skipping.\n",
      "66/66 [==============================] - 1s 11ms/step - loss: 0.0035\n",
      "Epoch 6/50\n",
      "66/66 [==============================] - ETA: 0s - loss: 0.0033WARNING:tensorflow:Can save best model only with val_accuracy available, skipping.\n",
      "66/66 [==============================] - 1s 11ms/step - loss: 0.0033\n",
      "Epoch 7/50\n",
      "66/66 [==============================] - ETA: 0s - loss: 0.0031WARNING:tensorflow:Can save best model only with val_accuracy available, skipping.\n",
      "66/66 [==============================] - 1s 11ms/step - loss: 0.0031\n",
      "Epoch 8/50\n",
      "62/66 [===========================>..] - ETA: 0s - loss: 0.0034WARNING:tensorflow:Can save best model only with val_accuracy available, skipping.\n",
      "66/66 [==============================] - 1s 11ms/step - loss: 0.0034\n",
      "Epoch 9/50\n",
      "66/66 [==============================] - ETA: 0s - loss: 0.0027WARNING:tensorflow:Can save best model only with val_accuracy available, skipping.\n",
      "66/66 [==============================] - 1s 11ms/step - loss: 0.0027\n",
      "Epoch 10/50\n",
      "66/66 [==============================] - ETA: 0s - loss: 0.0029WARNING:tensorflow:Can save best model only with val_accuracy available, skipping.\n",
      "66/66 [==============================] - 1s 11ms/step - loss: 0.0029\n",
      "Epoch 11/50\n",
      "66/66 [==============================] - ETA: 0s - loss: 0.0030WARNING:tensorflow:Can save best model only with val_accuracy available, skipping.\n",
      "66/66 [==============================] - 1s 11ms/step - loss: 0.0030\n",
      "Epoch 12/50\n",
      "66/66 [==============================] - ETA: 0s - loss: 0.0029WARNING:tensorflow:Can save best model only with val_accuracy available, skipping.\n",
      "66/66 [==============================] - 1s 11ms/step - loss: 0.0029\n",
      "Epoch 13/50\n",
      "66/66 [==============================] - ETA: 0s - loss: 0.0026WARNING:tensorflow:Can save best model only with val_accuracy available, skipping.\n",
      "66/66 [==============================] - 1s 11ms/step - loss: 0.0026\n",
      "Epoch 14/50\n",
      "66/66 [==============================] - ETA: 0s - loss: 0.0025WARNING:tensorflow:Can save best model only with val_accuracy available, skipping.\n",
      "66/66 [==============================] - 1s 11ms/step - loss: 0.0025\n",
      "Epoch 15/50\n",
      "66/66 [==============================] - ETA: 0s - loss: 0.0022WARNING:tensorflow:Can save best model only with val_accuracy available, skipping.\n",
      "66/66 [==============================] - 1s 11ms/step - loss: 0.0022\n",
      "Epoch 16/50\n",
      "66/66 [==============================] - ETA: 0s - loss: 0.0022WARNING:tensorflow:Can save best model only with val_accuracy available, skipping.\n",
      "66/66 [==============================] - 1s 11ms/step - loss: 0.0022\n",
      "Epoch 17/50\n",
      "65/66 [============================>.] - ETA: 0s - loss: 0.0024WARNING:tensorflow:Can save best model only with val_accuracy available, skipping.\n",
      "66/66 [==============================] - 1s 11ms/step - loss: 0.0023\n",
      "Epoch 18/50\n",
      "66/66 [==============================] - ETA: 0s - loss: 0.0021WARNING:tensorflow:Can save best model only with val_accuracy available, skipping.\n",
      "66/66 [==============================] - 1s 11ms/step - loss: 0.0021\n",
      "Epoch 19/50\n",
      "62/66 [===========================>..] - ETA: 0s - loss: 0.0021WARNING:tensorflow:Can save best model only with val_accuracy available, skipping.\n",
      "66/66 [==============================] - 1s 11ms/step - loss: 0.0021\n",
      "Epoch 20/50\n",
      "66/66 [==============================] - ETA: 0s - loss: 0.0020WARNING:tensorflow:Can save best model only with val_accuracy available, skipping.\n",
      "66/66 [==============================] - 1s 11ms/step - loss: 0.0020\n",
      "Epoch 21/50\n",
      "66/66 [==============================] - ETA: 0s - loss: 0.0019WARNING:tensorflow:Can save best model only with val_accuracy available, skipping.\n",
      "66/66 [==============================] - 1s 11ms/step - loss: 0.0019\n",
      "Epoch 22/50\n",
      "66/66 [==============================] - ETA: 0s - loss: 0.0018WARNING:tensorflow:Can save best model only with val_accuracy available, skipping.\n",
      "66/66 [==============================] - 1s 11ms/step - loss: 0.0018\n",
      "Epoch 23/50\n",
      "66/66 [==============================] - ETA: 0s - loss: 0.0018WARNING:tensorflow:Can save best model only with val_accuracy available, skipping.\n",
      "66/66 [==============================] - 1s 11ms/step - loss: 0.0018\n",
      "Epoch 24/50\n",
      "66/66 [==============================] - ETA: 0s - loss: 0.0017WARNING:tensorflow:Can save best model only with val_accuracy available, skipping.\n",
      "66/66 [==============================] - 1s 11ms/step - loss: 0.0017\n",
      "Epoch 25/50\n",
      "66/66 [==============================] - ETA: 0s - loss: 0.0019WARNING:tensorflow:Can save best model only with val_accuracy available, skipping.\n",
      "66/66 [==============================] - 1s 11ms/step - loss: 0.0019\n",
      "Epoch 26/50\n",
      "66/66 [==============================] - ETA: 0s - loss: 0.0019WARNING:tensorflow:Can save best model only with val_accuracy available, skipping.\n",
      "66/66 [==============================] - 1s 11ms/step - loss: 0.0019\n",
      "Epoch 27/50\n",
      "66/66 [==============================] - ETA: 0s - loss: 0.0018WARNING:tensorflow:Can save best model only with val_accuracy available, skipping.\n",
      "66/66 [==============================] - 1s 11ms/step - loss: 0.0018\n",
      "Epoch 28/50\n",
      "66/66 [==============================] - ETA: 0s - loss: 0.0018WARNING:tensorflow:Can save best model only with val_accuracy available, skipping.\n",
      "66/66 [==============================] - 1s 11ms/step - loss: 0.0018\n",
      "Epoch 29/50\n",
      "66/66 [==============================] - ETA: 0s - loss: 0.0019WARNING:tensorflow:Can save best model only with val_accuracy available, skipping.\n",
      "66/66 [==============================] - 1s 11ms/step - loss: 0.0019\n",
      "Epoch 30/50\n",
      "66/66 [==============================] - ETA: 0s - loss: 0.0016WARNING:tensorflow:Can save best model only with val_accuracy available, skipping.\n",
      "66/66 [==============================] - 1s 11ms/step - loss: 0.0016\n",
      "Epoch 31/50\n",
      "66/66 [==============================] - ETA: 0s - loss: 0.0014WARNING:tensorflow:Can save best model only with val_accuracy available, skipping.\n",
      "66/66 [==============================] - 1s 11ms/step - loss: 0.0014\n",
      "Epoch 32/50\n",
      "66/66 [==============================] - ETA: 0s - loss: 0.0016WARNING:tensorflow:Can save best model only with val_accuracy available, skipping.\n",
      "66/66 [==============================] - 1s 11ms/step - loss: 0.0016\n",
      "Epoch 33/50\n",
      "66/66 [==============================] - ETA: 0s - loss: 0.0016WARNING:tensorflow:Can save best model only with val_accuracy available, skipping.\n",
      "66/66 [==============================] - 1s 11ms/step - loss: 0.0016\n",
      "Epoch 34/50\n",
      "66/66 [==============================] - ETA: 0s - loss: 0.0016WARNING:tensorflow:Can save best model only with val_accuracy available, skipping.\n",
      "66/66 [==============================] - 1s 11ms/step - loss: 0.0016\n",
      "Epoch 35/50\n",
      "66/66 [==============================] - ETA: 0s - loss: 0.0016WARNING:tensorflow:Can save best model only with val_accuracy available, skipping.\n",
      "66/66 [==============================] - 1s 11ms/step - loss: 0.0016\n",
      "Epoch 36/50\n",
      "66/66 [==============================] - ETA: 0s - loss: 0.0016WARNING:tensorflow:Can save best model only with val_accuracy available, skipping.\n",
      "66/66 [==============================] - 1s 11ms/step - loss: 0.0016\n",
      "Epoch 37/50\n",
      "66/66 [==============================] - ETA: 0s - loss: 0.0014WARNING:tensorflow:Can save best model only with val_accuracy available, skipping.\n",
      "66/66 [==============================] - 1s 11ms/step - loss: 0.0014\n",
      "Epoch 38/50\n",
      "66/66 [==============================] - ETA: 0s - loss: 0.0014WARNING:tensorflow:Can save best model only with val_accuracy available, skipping.\n",
      "66/66 [==============================] - 1s 11ms/step - loss: 0.0014\n",
      "Epoch 39/50\n",
      "65/66 [============================>.] - ETA: 0s - loss: 0.0016WARNING:tensorflow:Can save best model only with val_accuracy available, skipping.\n",
      "66/66 [==============================] - 1s 11ms/step - loss: 0.0016\n",
      "Epoch 40/50\n",
      "66/66 [==============================] - ETA: 0s - loss: 0.0015WARNING:tensorflow:Can save best model only with val_accuracy available, skipping.\n",
      "66/66 [==============================] - 1s 11ms/step - loss: 0.0015\n",
      "Epoch 41/50\n",
      "66/66 [==============================] - ETA: 0s - loss: 0.0015WARNING:tensorflow:Can save best model only with val_accuracy available, skipping.\n",
      "66/66 [==============================] - 1s 11ms/step - loss: 0.0015\n",
      "Epoch 42/50\n",
      "66/66 [==============================] - ETA: 0s - loss: 0.0014WARNING:tensorflow:Can save best model only with val_accuracy available, skipping.\n",
      "66/66 [==============================] - 1s 11ms/step - loss: 0.0014\n",
      "Epoch 43/50\n",
      "66/66 [==============================] - ETA: 0s - loss: 0.0013WARNING:tensorflow:Can save best model only with val_accuracy available, skipping.\n",
      "66/66 [==============================] - 1s 11ms/step - loss: 0.0013\n",
      "Epoch 44/50\n",
      "66/66 [==============================] - ETA: 0s - loss: 0.0014WARNING:tensorflow:Can save best model only with val_accuracy available, skipping.\n",
      "66/66 [==============================] - 1s 11ms/step - loss: 0.0014\n",
      "Epoch 45/50\n",
      "66/66 [==============================] - ETA: 0s - loss: 0.0014WARNING:tensorflow:Can save best model only with val_accuracy available, skipping.\n",
      "66/66 [==============================] - 1s 11ms/step - loss: 0.0014\n",
      "Epoch 46/50\n",
      "66/66 [==============================] - ETA: 0s - loss: 0.0014WARNING:tensorflow:Can save best model only with val_accuracy available, skipping.\n",
      "66/66 [==============================] - 1s 11ms/step - loss: 0.0014\n",
      "Epoch 47/50\n",
      "66/66 [==============================] - ETA: 0s - loss: 0.0013WARNING:tensorflow:Can save best model only with val_accuracy available, skipping.\n",
      "66/66 [==============================] - 1s 11ms/step - loss: 0.0013\n",
      "Epoch 48/50\n",
      "66/66 [==============================] - ETA: 0s - loss: 0.0013WARNING:tensorflow:Can save best model only with val_accuracy available, skipping.\n",
      "66/66 [==============================] - 1s 11ms/step - loss: 0.0013\n",
      "Epoch 49/50\n",
      "66/66 [==============================] - ETA: 0s - loss: 0.0014WARNING:tensorflow:Can save best model only with val_accuracy available, skipping.\n",
      "66/66 [==============================] - 1s 11ms/step - loss: 0.0014\n",
      "Epoch 50/50\n",
      "66/66 [==============================] - ETA: 0s - loss: 0.0014WARNING:tensorflow:Can save best model only with val_accuracy available, skipping.\n",
      "66/66 [==============================] - 1s 11ms/step - loss: 0.0014\n"
     ]
    }
   ],
   "source": [
    "hist = model.fit(x_train, \n",
    "          y_train, \n",
    "          epochs=50, \n",
    "          batch_size = 32,\n",
    "          callbacks = [checkpointer])"
   ]
  },
  {
   "cell_type": "code",
   "execution_count": 91,
   "id": "35b67e7f-c8f6-44b0-b0d6-a80634d20dfb",
   "metadata": {},
   "outputs": [],
   "source": [
    "# test model accuracy on existing data\n",
    "test_data = load_data(company = 'FB',\n",
    "                      start = dt.datetime(2020,1,1),\n",
    "                      end = dt.datetime.now())\n",
    "\n",
    "actual_prices = test_data['Close'].values\n",
    "\n",
    "total_dataset = pd.concat((data['Close'], test_data['Close']), axis=0)\n",
    "\n",
    "model_inputs = total_dataset[len(total_dataset) - len(test_data) - prediction_days:].values\n",
    "model_inputs = model_inputs.reshape(-1,1)\n",
    "model_inputs = scaler.transform(model_inputs)"
   ]
  },
  {
   "cell_type": "code",
   "execution_count": 92,
   "id": "d6c21cf1-f640-4dfd-93c4-cbc2a30c7453",
   "metadata": {},
   "outputs": [],
   "source": [
    "x_test = []\n",
    "for x in range(prediction_days, len(model_inputs)):\n",
    "    x_test.append(model_inputs[x-prediction_days:x, 0])\n",
    "\n",
    "x_test = np.array(x_test)\n",
    "x_test = np.reshape(x_test, (x_test.shape[0], x_test.shape[1] ,1))\n",
    "\n",
    "predicted_prices = model.predict(x_test)\n",
    "predicted_prices = scaler.inverse_transform(predicted_prices)"
   ]
  },
  {
   "cell_type": "code",
   "execution_count": 93,
   "id": "e299be80-b9c5-4723-aafa-bf2003f4497e",
   "metadata": {},
   "outputs": [
    {
     "data": {
      "image/png": "[encoded data removed]",
      "text/plain": [
       "<Figure size 432x288 with 1 Axes>"
      ]
     },
     "metadata": {
      "needs_background": "light"
     },
     "output_type": "display_data"
    }
   ],
   "source": [
    "plt.plot(actual_prices, color='black', label=f\"Actual {company} price\")\n",
    "plt.plot(predicted_prices, color= 'green', label=f\"predicted {company} price\")\n",
    "plt.title(f\"{company} share price\")\n",
    "plt.xlabel(\"time\")\n",
    "plt.ylabel(f\"{company} share price\")\n",
    "plt.legend()\n",
    "plt.show()"
   ]
  },
  {
   "cell_type": "code",
   "execution_count": 60,
   "id": "ca486fcd-244f-42d1-9fcf-0f7126dbed54",
   "metadata": {},
   "outputs": [],
   "source": [
    "# predicting next day\n",
    "real_data = [model_inputs[len(model_inputs) - prediction_days:len(model_inputs),0]]\n",
    "real_data = np.array(real_data)\n",
    "real_data = np.reshape(real_data, (real_data.shape[0], real_data.shape[1], 1))"
   ]
  },
  {
   "cell_type": "code",
   "execution_count": 61,
   "id": "19e2e2a4-0e2f-4856-a219-b31718f88136",
   "metadata": {},
   "outputs": [
    {
     "name": "stdout",
     "output_type": "stream",
     "text": [
      "prediction: [[297.44034]]\n"
     ]
    }
   ],
   "source": [
    "prediction = model.predict(real_data)\n",
    "prediction = scaler.inverse_transform(prediction)\n",
    "print(f\"prediction: {prediction}\")"
   ]
  },
  {
   "cell_type": "code",
   "execution_count": null,
   "id": "5f82c0a6-76c8-4850-8a08-f673f549050c",
   "metadata": {},
   "outputs": [],
   "source": []
  },
  {
   "cell_type": "code",
   "execution_count": null,
   "id": "6b5fdf34-fc5f-4d27-8be1-88cd934929c6",
   "metadata": {},
   "outputs": [],
   "source": []
  }
 ],
 "metadata": {
  "kernelspec": {
   "display_name": "Python 3 (ipykernel)",
   "language": "python",
   "name": "python3"
  },
  "language_info": {
   "codemirror_mode": {
    "name": "ipython",
    "version": 3
   },
   "file_extension": ".py",
   "mimetype": "text/x-python",
   "name": "python",
   "nbconvert_exporter": "python",
   "pygments_lexer": "ipython3",
   "version": "3.9.1"
  }
 },
 "nbformat": 4,
 "nbformat_minor": 5
}
