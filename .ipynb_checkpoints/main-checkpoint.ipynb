{
 "cells": [
  {
   "cell_type": "code",
   "execution_count": 1,
   "id": "a0630969-511b-490c-bdf0-7a34db5c24ab",
   "metadata": {},
   "outputs": [],
   "source": [
    "import numpy as np\n",
    "import pandas as pd\n",
    "\n",
    "import os\n",
    "import matplotlib.pyplot as plt\n",
    "import pandas_datareader as web\n",
    "import datetime as dt\n",
    "\n",
    "from sklearn.preprocessing import MinMaxScaler\n",
    "from tensorflow.keras.models import Sequential\n",
    "from tensorflow.keras.layers import Dense, Dropout, LSTM\n",
    "from tensorflow.keras.callbacks import ModelCheckpoint, EarlyStopping"
   ]
  },
  {
   "cell_type": "code",
   "execution_count": 2,
   "id": "83f0416b-6076-4fb4-8a48-4eacd728c3b1",
   "metadata": {},
   "outputs": [],
   "source": [
    "def load_data(company, start, end):\n",
    "    data = web.DataReader(company, 'yahoo', start, end)\n",
    "    return data"
   ]
  },
  {
   "cell_type": "code",
   "execution_count": 185,
   "id": "8883e2be-b9fc-4c38-b05e-de955be35316",
   "metadata": {},
   "outputs": [],
   "source": [
    "# Company to be focused on: facebook\n",
    "Apple = 'AAPL'\n",
    "Microsoft = 'MSFT'\n",
    "Google = 'GOOGL'\n",
    "companies = [Apple, Microsoft, Google]"
   ]
  },
  {
   "cell_type": "code",
   "execution_count": 186,
   "id": "4714a278-8f3c-4a37-9fef-13250dc830da",
   "metadata": {},
   "outputs": [],
   "source": [
    "AppleData = load_data(company = Apple,\n",
    "                     start = dt.datetime(2008,1,1),\n",
    "                     end = dt.datetime(2020,1,1))\n",
    "MicrosoftData = load_data(company = Microsoft,\n",
    "                     start = dt.datetime(2008,1,1),\n",
    "                     end = dt.datetime(2020,1,1))\n",
    "\n",
    "GoogleData = load_data(company = Google,\n",
    "                     start = dt.datetime(2008,1,1),\n",
    "                     end = dt.datetime(2020,1,1))\n"
   ]
  },
  {
   "cell_type": "code",
   "execution_count": 33,
   "id": "be4d6649-5eb0-47f7-bdf2-ee31b130d053",
   "metadata": {},
   "outputs": [
    {
     "name": "stdout",
     "output_type": "stream",
     "text": [
      "[0.02491425 0.02354232 0.02570998 0.02546303 0.02653313 0.02617643\n",
      " 0.02897517 0.03369461 0.03753601 0.03890795 0.03805735 0.03871588\n",
      " 0.04203594 0.03931953 0.04217314 0.03978598 0.03739882 0.03668542\n",
      " 0.03577995 0.03695981 0.03770064 0.03841405 0.03962134 0.03770064\n",
      " 0.03632871 0.0358897  0.03564275 0.02886542 0.0284264  0.03122514\n",
      " 0.03092331 0.03026479 0.03023735 0.02941419 0.03185622 0.02502401\n",
      " 0.01640829 0.01487173 0.01092056 0.00864316 0.00633832 0.00921937\n",
      " 0.01149678 0.00820414 0.00820414 0.00899986 0.01119495 0.01061874\n",
      " 0.00727123 0.0095212  0.00587187 0.0036219  0.006256   0.00392372\n",
      " 0.004692   0.004692   0.00460969 0.00389628 0.00441762 0.00375909]\n"
     ]
    }
   ],
   "source": [
    "# Normalize data\n",
    "scaler = MinMaxScaler(feature_range=(0,1))\n",
    "scaled_data = scaler.fit_transform(data['Close'].values.reshape(-1,1))\n",
    "print(scaled_data[12:72, 0])"
   ]
  },
  {
   "cell_type": "code",
   "execution_count": 173,
   "id": "adf37bac-4467-47b4-b718-bdf59f723770",
   "metadata": {},
   "outputs": [
    {
     "name": "stdout",
     "output_type": "stream",
     "text": [
      "(329, 120, 1)\n",
      "(329, 7, 1)\n"
     ]
    }
   ],
   "source": [
    "# how many days do i want to base my predictions on ?\n",
    "prediction_days = 120\n",
    "\n",
    "#How many days to forecast\n",
    "forecasting_days = 7\n",
    "\n",
    "x_train = []\n",
    "y_train = []\n",
    "\n",
    "for x in range(prediction_days, len(scaled_data), forecasting_days):\n",
    "    x_train.append(scaled_data[x - prediction_days:x, 0])\n",
    "    y_train.append(scaled_data[x - forecasting_days:x, 0])\n",
    "    \n",
    "x_train, y_train = np.array(x_train), np.array(y_train)\n",
    "x_train = np.reshape(x_train, (x_train.shape[0], x_train.shape[1], 1))\n",
    "y_train = np.reshape(y_train, (y_train.shape[0], y_train.shape[1], 1))\n",
    "print(x_train.shape)\n",
    "print(y_train.shape)"
   ]
  },
  {
   "cell_type": "code",
   "execution_count": 174,
   "id": "5847e32f-988c-479a-864e-f895445ffd00",
   "metadata": {},
   "outputs": [],
   "source": [
    "def LSTM_model():\n",
    "    \n",
    "    model = Sequential()\n",
    "    \n",
    "    model.add(LSTM(units = 120, return_sequences = True, input_shape = (x_train.shape[1],1)))\n",
    "    model.add(Dropout(0.4))\n",
    "\n",
    "    model.add(LSTM(units = 60, return_sequences = True))\n",
    "    model.add(Dropout(0.4))\n",
    "\n",
    "    model.add(LSTM(units = 14))\n",
    "    model.add(Dropout(0.4))\n",
    "    \n",
    "    model.add(Dense(units=forecasting_days))\n",
    "    \n",
    "    return model"
   ]
  },
  {
   "cell_type": "code",
   "execution_count": 175,
   "id": "9c15738d-e4b8-488a-85e0-5263df668e88",
   "metadata": {},
   "outputs": [
    {
     "name": "stdout",
     "output_type": "stream",
     "text": [
      "Model: \"sequential_17\"\n",
      "_________________________________________________________________\n",
      " Layer (type)                Output Shape              Param #   \n",
      "=================================================================\n",
      " lstm_51 (LSTM)              (None, 120, 120)          58560     \n",
      "                                                                 \n",
      " dropout_51 (Dropout)        (None, 120, 120)          0         \n",
      "                                                                 \n",
      " lstm_52 (LSTM)              (None, 120, 60)           43440     \n",
      "                                                                 \n",
      " dropout_52 (Dropout)        (None, 120, 60)           0         \n",
      "                                                                 \n",
      " lstm_53 (LSTM)              (None, 14)                4200      \n",
      "                                                                 \n",
      " dropout_53 (Dropout)        (None, 14)                0         \n",
      "                                                                 \n",
      " dense_17 (Dense)            (None, 7)                 105       \n",
      "                                                                 \n",
      "=================================================================\n",
      "Total params: 106,305\n",
      "Trainable params: 106,305\n",
      "Non-trainable params: 0\n",
      "_________________________________________________________________\n"
     ]
    }
   ],
   "source": [
    "model = LSTM_model()\n",
    "model.summary()\n",
    "model.compile(optimizer='adam', \n",
    "              loss='mean_squared_error')"
   ]
  },
  {
   "cell_type": "code",
   "execution_count": 176,
   "id": "1765df96-3869-4fcd-b79e-9289abec2179",
   "metadata": {},
   "outputs": [],
   "source": [
    "# Define callbacks\n",
    "\n",
    "# Save weights only for best model\n",
    "checkpointer = ModelCheckpoint(filepath = 'weights_best.hdf5', \n",
    "                               verbose = 1, \n",
    "                               monitor = 'val_accuracy',\n",
    "                               save_best_only = True)"
   ]
  },
  {
   "cell_type": "code",
   "execution_count": 181,
   "id": "89979c4e-72a2-4933-8634-b911f8929037",
   "metadata": {},
   "outputs": [
    {
     "name": "stdout",
     "output_type": "stream",
     "text": [
      "Epoch 1/100\n",
      "11/11 [==============================] - 0s 35ms/step - loss: 0.0174\n",
      "Epoch 2/100\n",
      "11/11 [==============================] - 0s 20ms/step - loss: 0.0154\n",
      "Epoch 3/100\n",
      "11/11 [==============================] - 0s 19ms/step - loss: 0.0156\n",
      "Epoch 4/100\n",
      "11/11 [==============================] - 0s 20ms/step - loss: 0.0140\n",
      "Epoch 5/100\n",
      "11/11 [==============================] - 0s 19ms/step - loss: 0.0155\n",
      "Epoch 6/100\n",
      "11/11 [==============================] - 0s 19ms/step - loss: 0.0143\n",
      "Epoch 7/100\n",
      "11/11 [==============================] - 0s 19ms/step - loss: 0.0130\n",
      "Epoch 8/100\n",
      "11/11 [==============================] - 0s 19ms/step - loss: 0.0131\n",
      "Epoch 9/100\n",
      "11/11 [==============================] - 0s 18ms/step - loss: 0.0137\n",
      "Epoch 10/100\n",
      "11/11 [==============================] - 0s 19ms/step - loss: 0.0130\n",
      "Epoch 11/100\n",
      "11/11 [==============================] - 0s 19ms/step - loss: 0.0116\n",
      "Epoch 12/100\n",
      "11/11 [==============================] - 0s 19ms/step - loss: 0.0123\n",
      "Epoch 13/100\n",
      "11/11 [==============================] - 0s 19ms/step - loss: 0.0097\n",
      "Epoch 14/100\n",
      "11/11 [==============================] - 0s 19ms/step - loss: 0.0112\n",
      "Epoch 15/100\n",
      "11/11 [==============================] - 0s 19ms/step - loss: 0.0120\n",
      "Epoch 16/100\n",
      "11/11 [==============================] - 0s 20ms/step - loss: 0.0101\n",
      "Epoch 17/100\n",
      "11/11 [==============================] - 0s 19ms/step - loss: 0.0105\n",
      "Epoch 18/100\n",
      "11/11 [==============================] - 0s 18ms/step - loss: 0.0094\n",
      "Epoch 19/100\n",
      "11/11 [==============================] - 0s 19ms/step - loss: 0.0082\n",
      "Epoch 20/100\n",
      "11/11 [==============================] - 0s 19ms/step - loss: 0.0083\n",
      "Epoch 21/100\n",
      "11/11 [==============================] - 0s 18ms/step - loss: 0.0092\n",
      "Epoch 22/100\n",
      "11/11 [==============================] - 0s 20ms/step - loss: 0.0096\n",
      "Epoch 23/100\n",
      "11/11 [==============================] - 0s 18ms/step - loss: 0.0106\n",
      "Epoch 24/100\n",
      "11/11 [==============================] - 0s 20ms/step - loss: 0.0095\n",
      "Epoch 25/100\n",
      "11/11 [==============================] - 0s 19ms/step - loss: 0.0073\n",
      "Epoch 26/100\n",
      "11/11 [==============================] - 0s 19ms/step - loss: 0.0083\n",
      "Epoch 27/100\n",
      "11/11 [==============================] - 0s 18ms/step - loss: 0.0080\n",
      "Epoch 28/100\n",
      "11/11 [==============================] - 0s 18ms/step - loss: 0.0090\n",
      "Epoch 29/100\n",
      "11/11 [==============================] - 0s 19ms/step - loss: 0.0080\n",
      "Epoch 30/100\n",
      "11/11 [==============================] - 0s 18ms/step - loss: 0.0076\n",
      "Epoch 31/100\n",
      "11/11 [==============================] - 0s 19ms/step - loss: 0.0076\n",
      "Epoch 32/100\n",
      "11/11 [==============================] - 0s 19ms/step - loss: 0.0071\n",
      "Epoch 33/100\n",
      "11/11 [==============================] - 0s 19ms/step - loss: 0.0080\n",
      "Epoch 34/100\n",
      "11/11 [==============================] - 0s 21ms/step - loss: 0.0072\n",
      "Epoch 35/100\n",
      "11/11 [==============================] - 0s 18ms/step - loss: 0.0083\n",
      "Epoch 36/100\n",
      "11/11 [==============================] - 0s 17ms/step - loss: 0.0063\n",
      "Epoch 37/100\n",
      "11/11 [==============================] - 0s 18ms/step - loss: 0.0063\n",
      "Epoch 38/100\n",
      "11/11 [==============================] - 0s 17ms/step - loss: 0.0067\n",
      "Epoch 39/100\n",
      "11/11 [==============================] - 0s 18ms/step - loss: 0.0072\n",
      "Epoch 40/100\n",
      "11/11 [==============================] - 0s 19ms/step - loss: 0.0065\n",
      "Epoch 41/100\n",
      "11/11 [==============================] - 0s 20ms/step - loss: 0.0070\n",
      "Epoch 42/100\n",
      "11/11 [==============================] - 0s 20ms/step - loss: 0.0055\n",
      "Epoch 43/100\n",
      "11/11 [==============================] - 0s 18ms/step - loss: 0.0052\n",
      "Epoch 44/100\n",
      "11/11 [==============================] - 0s 18ms/step - loss: 0.0066\n",
      "Epoch 45/100\n",
      "11/11 [==============================] - 0s 18ms/step - loss: 0.0064\n",
      "Epoch 46/100\n",
      "11/11 [==============================] - 0s 18ms/step - loss: 0.0063\n",
      "Epoch 47/100\n",
      "11/11 [==============================] - 0s 20ms/step - loss: 0.0069\n",
      "Epoch 48/100\n",
      "11/11 [==============================] - 0s 19ms/step - loss: 0.0079\n",
      "Epoch 49/100\n",
      "11/11 [==============================] - 0s 18ms/step - loss: 0.0059\n",
      "Epoch 50/100\n",
      "11/11 [==============================] - 0s 18ms/step - loss: 0.0061\n",
      "Epoch 51/100\n",
      "11/11 [==============================] - 0s 19ms/step - loss: 0.0056\n",
      "Epoch 52/100\n",
      "11/11 [==============================] - 0s 18ms/step - loss: 0.0062\n",
      "Epoch 53/100\n",
      "11/11 [==============================] - 0s 20ms/step - loss: 0.0056\n",
      "Epoch 54/100\n",
      "11/11 [==============================] - 0s 20ms/step - loss: 0.0053\n",
      "Epoch 55/100\n",
      "11/11 [==============================] - 0s 18ms/step - loss: 0.0068\n",
      "Epoch 56/100\n",
      "11/11 [==============================] - 0s 20ms/step - loss: 0.0056\n",
      "Epoch 57/100\n",
      "11/11 [==============================] - 0s 19ms/step - loss: 0.0057\n",
      "Epoch 58/100\n",
      "11/11 [==============================] - 0s 19ms/step - loss: 0.0047\n",
      "Epoch 59/100\n",
      "11/11 [==============================] - 0s 18ms/step - loss: 0.0057\n",
      "Epoch 60/100\n",
      "11/11 [==============================] - 0s 19ms/step - loss: 0.0051\n",
      "Epoch 61/100\n",
      "11/11 [==============================] - 0s 19ms/step - loss: 0.0051\n",
      "Epoch 62/100\n",
      "11/11 [==============================] - 0s 19ms/step - loss: 0.0047\n",
      "Epoch 63/100\n",
      "11/11 [==============================] - 0s 19ms/step - loss: 0.0050\n",
      "Epoch 64/100\n",
      "11/11 [==============================] - 0s 20ms/step - loss: 0.0045\n",
      "Epoch 65/100\n",
      "11/11 [==============================] - 0s 20ms/step - loss: 0.0048\n",
      "Epoch 66/100\n",
      "11/11 [==============================] - 0s 19ms/step - loss: 0.0052\n",
      "Epoch 67/100\n",
      "11/11 [==============================] - 0s 18ms/step - loss: 0.0046\n",
      "Epoch 68/100\n",
      "11/11 [==============================] - 0s 20ms/step - loss: 0.0057\n",
      "Epoch 69/100\n",
      "11/11 [==============================] - 0s 18ms/step - loss: 0.0043\n",
      "Epoch 70/100\n",
      "11/11 [==============================] - 0s 18ms/step - loss: 0.0045\n",
      "Epoch 71/100\n",
      "11/11 [==============================] - 0s 18ms/step - loss: 0.0051\n",
      "Epoch 72/100\n",
      "11/11 [==============================] - 0s 18ms/step - loss: 0.0052\n",
      "Epoch 73/100\n",
      "11/11 [==============================] - 0s 19ms/step - loss: 0.0042\n",
      "Epoch 74/100\n",
      "11/11 [==============================] - 0s 18ms/step - loss: 0.0051\n",
      "Epoch 75/100\n",
      "11/11 [==============================] - 0s 20ms/step - loss: 0.0047\n",
      "Epoch 76/100\n",
      "11/11 [==============================] - 0s 19ms/step - loss: 0.0048\n",
      "Epoch 77/100\n",
      "11/11 [==============================] - 0s 20ms/step - loss: 0.0049\n",
      "Epoch 78/100\n",
      "11/11 [==============================] - 0s 18ms/step - loss: 0.0047\n",
      "Epoch 79/100\n",
      "11/11 [==============================] - 0s 19ms/step - loss: 0.0050\n",
      "Epoch 80/100\n",
      "11/11 [==============================] - 0s 19ms/step - loss: 0.0048\n",
      "Epoch 81/100\n",
      "11/11 [==============================] - 0s 19ms/step - loss: 0.0044\n",
      "Epoch 82/100\n",
      "11/11 [==============================] - 0s 20ms/step - loss: 0.0047\n",
      "Epoch 83/100\n",
      "11/11 [==============================] - 0s 20ms/step - loss: 0.0048\n",
      "Epoch 84/100\n",
      "11/11 [==============================] - 0s 19ms/step - loss: 0.0044\n",
      "Epoch 85/100\n",
      "11/11 [==============================] - 0s 19ms/step - loss: 0.0046\n",
      "Epoch 86/100\n",
      "11/11 [==============================] - 0s 19ms/step - loss: 0.0043\n",
      "Epoch 87/100\n",
      "11/11 [==============================] - 0s 20ms/step - loss: 0.0049\n",
      "Epoch 88/100\n",
      "11/11 [==============================] - 0s 19ms/step - loss: 0.0054\n",
      "Epoch 89/100\n",
      "11/11 [==============================] - 0s 19ms/step - loss: 0.0051\n",
      "Epoch 90/100\n",
      "11/11 [==============================] - 0s 19ms/step - loss: 0.0047\n",
      "Epoch 91/100\n",
      "11/11 [==============================] - 0s 19ms/step - loss: 0.0044\n",
      "Epoch 92/100\n",
      "11/11 [==============================] - 0s 19ms/step - loss: 0.0048\n",
      "Epoch 93/100\n",
      "11/11 [==============================] - 0s 19ms/step - loss: 0.0043\n",
      "Epoch 94/100\n",
      "11/11 [==============================] - 0s 20ms/step - loss: 0.0059\n",
      "Epoch 95/100\n",
      "11/11 [==============================] - 0s 18ms/step - loss: 0.0038\n",
      "Epoch 96/100\n",
      "11/11 [==============================] - 0s 19ms/step - loss: 0.0042\n",
      "Epoch 97/100\n",
      "11/11 [==============================] - 0s 18ms/step - loss: 0.0043\n",
      "Epoch 98/100\n",
      "11/11 [==============================] - 0s 20ms/step - loss: 0.0046\n",
      "Epoch 99/100\n",
      "11/11 [==============================] - 0s 19ms/step - loss: 0.0038\n",
      "Epoch 100/100\n",
      "11/11 [==============================] - 0s 18ms/step - loss: 0.0045\n"
     ]
    }
   ],
   "source": [
    "hist = model.fit(x_train, \n",
    "          y_train, \n",
    "          epochs=100, \n",
    "          batch_size = 32)\n",
    "          #callbacks = [checkpointer])"
   ]
  },
  {
   "cell_type": "code",
   "execution_count": 150,
   "id": "e30c1b53-cce2-4272-9dd4-9878aa63a1b3",
   "metadata": {},
   "outputs": [
    {
     "ename": "KeyError",
     "evalue": "'accuracy'",
     "output_type": "error",
     "traceback": [
      "\u001b[1;31m---------------------------------------------------------------------------\u001b[0m",
      "\u001b[1;31mKeyError\u001b[0m                                  Traceback (most recent call last)",
      "\u001b[1;32m~\\AppData\\Local\\Temp/ipykernel_24560/3970443829.py\u001b[0m in \u001b[0;36m<module>\u001b[1;34m\u001b[0m\n\u001b[1;32m----> 1\u001b[1;33m \u001b[0mprint\u001b[0m\u001b[1;33m(\u001b[0m\u001b[0mhist\u001b[0m\u001b[1;33m.\u001b[0m\u001b[0mhistory\u001b[0m\u001b[1;33m[\u001b[0m\u001b[1;34m'accuracy'\u001b[0m\u001b[1;33m]\u001b[0m\u001b[1;33m)\u001b[0m\u001b[1;33m\u001b[0m\u001b[1;33m\u001b[0m\u001b[0m\n\u001b[0m",
      "\u001b[1;31mKeyError\u001b[0m: 'accuracy'"
     ]
    }
   ],
   "source": []
  },
  {
   "cell_type": "code",
   "execution_count": 182,
   "id": "35b67e7f-c8f6-44b0-b0d6-a80634d20dfb",
   "metadata": {},
   "outputs": [
    {
     "name": "stdout",
     "output_type": "stream",
     "text": [
      "(161, 1)\n"
     ]
    }
   ],
   "source": [
    "# test model accuracy on existing data\n",
    "test_data = load_data(company = 'FB',\n",
    "                      start = dt.datetime(2021,12,1),\n",
    "                      end = dt.datetime.now())\n",
    "\n",
    "actual_prices = test_data['Close'].values\n",
    "\n",
    "total_dataset = pd.concat((data['Close'], test_data['Close']), axis=0)\n",
    "\n",
    "model_inputs = total_dataset[len(total_dataset) - len(test_data) - prediction_days:].values\n",
    "model_inputs = model_inputs.reshape(-1,1)\n",
    "model_inputs = scaler.transform(model_inputs)\n",
    "print(model_inputs.shape)"
   ]
  },
  {
   "cell_type": "code",
   "execution_count": 183,
   "id": "d6c21cf1-f640-4dfd-93c4-cbc2a30c7453",
   "metadata": {},
   "outputs": [
    {
     "name": "stdout",
     "output_type": "stream",
     "text": [
      "(6, 120, 1)\n",
      "(42, 1)\n"
     ]
    }
   ],
   "source": [
    "x_test = []\n",
    "for x in range(prediction_days, len(model_inputs), forecasting_days):\n",
    "    x_test.append(model_inputs[x-prediction_days:x, 0])\n",
    "\n",
    "x_test = np.array(x_test)\n",
    "x_test = np.reshape(x_test, (x_test.shape[0], x_test.shape[1] ,1))\n",
    "print(x_test.shape)\n",
    "predicted_prices = model.predict(x_test)\n",
    "predicted_prices = scaler.inverse_transform(predicted_prices)\n",
    "predicted_prices = predicted_prices.reshape(-1,1)\n",
    "print(predicted_prices.shape)"
   ]
  },
  {
   "cell_type": "code",
   "execution_count": 184,
   "id": "e299be80-b9c5-4723-aafa-bf2003f4497e",
   "metadata": {},
   "outputs": [
    {
     "data": {
      "image/png": "[encoded data removed]",
      "text/plain": [
       "<Figure size 432x288 with 1 Axes>"
      ]
     },
     "metadata": {
      "needs_background": "light"
     },
     "output_type": "display_data"
    }
   ],
   "source": [
    "plt.plot(actual_prices, color='black', label=f\"Actual {company} price\")\n",
    "plt.plot(predicted_prices, color= 'green', label=f\"predicted {company} price\")\n",
    "plt.title(f\"{company} share price\")\n",
    "plt.xlabel(\"time\")\n",
    "plt.ylabel(f\"{company} share price\")\n",
    "plt.legend()\n",
    "plt.show()"
   ]
  },
  {
   "cell_type": "code",
   "execution_count": 87,
   "id": "ca486fcd-244f-42d1-9fcf-0f7126dbed54",
   "metadata": {},
   "outputs": [],
   "source": [
    "# predicting next day\n",
    "real_data = [model_inputs[len(model_inputs) - prediction_days:len(model_inputs),0]]\n",
    "real_data = np.array(real_data)\n",
    "real_data = np.reshape(real_data, (real_data.shape[0], real_data.shape[1], 1))"
   ]
  },
  {
   "cell_type": "code",
   "execution_count": 88,
   "id": "19e2e2a4-0e2f-4856-a219-b31718f88136",
   "metadata": {},
   "outputs": [
    {
     "name": "stdout",
     "output_type": "stream",
     "text": [
      "prediction: [[297.3522  296.03717 299.1629  297.97702 297.19144 297.90784 298.25504]]\n"
     ]
    }
   ],
   "source": [
    "prediction = model.predict(real_data)\n",
    "prediction = scaler.inverse_transform(prediction)\n",
    "print(f\"prediction: {prediction}\")"
   ]
  },
  {
   "cell_type": "code",
   "execution_count": null,
   "id": "5f82c0a6-76c8-4850-8a08-f673f549050c",
   "metadata": {},
   "outputs": [],
   "source": []
  },
  {
   "cell_type": "code",
   "execution_count": null,
   "id": "6b5fdf34-fc5f-4d27-8be1-88cd934929c6",
   "metadata": {},
   "outputs": [],
   "source": []
  }
 ],
 "metadata": {
  "kernelspec": {
   "display_name": "Python 3 (ipykernel)",
   "language": "python",
   "name": "python3"
  },
  "language_info": {
   "codemirror_mode": {
    "name": "ipython",
    "version": 3
   },
   "file_extension": ".py",
   "mimetype": "text/x-python",
   "name": "python",
   "nbconvert_exporter": "python",
   "pygments_lexer": "ipython3",
   "version": "3.9.1"
  }
 },
 "nbformat": 4,
 "nbformat_minor": 5
}
